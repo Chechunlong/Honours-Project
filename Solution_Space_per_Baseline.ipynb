{
 "cells": [
  {
   "cell_type": "markdown",
   "metadata": {},
   "source": [
    "This is only to see how the solution space relates to the number of baselines. The solution path is not considered in this exercise. "
   ]
  },
  {
   "cell_type": "code",
   "execution_count": 7,
   "metadata": {},
   "outputs": [
    {
     "data": {
      "text/html": [
       "../style/code_toggle.html"
      ],
      "text/plain": [
       "<IPython.core.display.HTML object>"
      ]
     },
     "execution_count": 7,
     "metadata": {},
     "output_type": "execute_result"
    }
   ],
   "source": [
    "import numpy as np\n",
    "import matplotlib.pyplot as plt\n",
    "import random\n",
    "import ProjectPacks as pp\n",
    "import ProjectFuncs as pf\n",
    "\n",
    "%matplotlib inline\n",
    "plt.rcParams['figure.figsize'] = (18, 6)  #spreads out plot surface for better visualization\n",
    "\n",
    "from IPython.display import HTML \n",
    "HTML('../style/course.css') #apply general CSS\n",
    "\n",
    "from IPython.display import HTML\n",
    "HTML('../style/code_toggle.html')"
   ]
  },
  {
   "cell_type": "code",
   "execution_count": 10,
   "metadata": {},
   "outputs": [
    {
     "name": "stdout",
     "output_type": "stream",
     "text": [
      "(8400,)\n"
     ]
    }
   ],
   "source": [
    "## Choose number of timeslots\n",
    "timeslots= 200\n",
    "A_mod,l_mod,m_mod,ut,vt,arrayHxpos=pp.formatSParams('Array_Profile.txt','Field_Profile.txt',td=timeslots)\n",
    "\n",
    "nbl= int(len(ut)*(len(ut)-1)/2)\n",
    "t = np.arange(0, 5, 5/timeslots)          #The points at which we will be taking our \"measurements\"\n",
    "noise = 0.000*np.random.normal(size=(timeslots*2*nbl)) #A noise vector used to manufacture \"real\" measurements.\n",
    "print(noise.shape)\n",
    "\n",
    "x_true = np.radians([0.4,0.5,4])          #The true (starting) values of our parameter vector (for alg).\n",
    "x_mod = np.radians([l_mod[0],m_mod[0],A_mod[0]])\n",
    "\n",
    "x_start= x_mod.copy()\n",
    "\n",
    "d= pf.modfunc(x_true,ut,vt)"
   ]
  },
  {
   "cell_type": "code",
   "execution_count": 11,
   "metadata": {},
   "outputs": [
    {
     "name": "stdout",
     "output_type": "stream",
     "text": [
      "Minimum of (L,M) at:  (140, 150)\n",
      "2.18050659836e-25\n",
      "Minimum of (L,A) at:  (140, 60)\n",
      "1.15481426131e-25\n",
      "Minimum of (M,A) at:  (150, 60)\n",
      "1.03532524881e-25\n"
     ]
    }
   ],
   "source": [
    "L= np.radians(np.arange(-1,1,2/timeslots))\n",
    "M= np.radians(np.arange(-1,1,2/timeslots))\n",
    "A= np.radians(np.arange(1,11,10/timeslots))\n",
    "\n",
    "rr_constA= np.empty((timeslots,timeslots))\n",
    "rr_constM= np.empty((timeslots,timeslots))\n",
    "rr_constL= np.empty((timeslots,timeslots))\n",
    "\n",
    "for a in range(timeslots):\n",
    "    for b in range(timeslots):\n",
    "        \n",
    "        x_r= [L[a],M[b],x_true[2]]\n",
    "        rr_constA[a,b]= np.square(np.linalg.norm(pf.modfunc_res(x_r,ut,vt,d)))\n",
    "        \n",
    "for a in range(timeslots):\n",
    "    for b in range(timeslots):\n",
    "        \n",
    "        x_r= [L[a],x_true[1],A[b]]\n",
    "        rr_constM[a,b]= np.square(np.linalg.norm(pf.modfunc_res(x_r,ut,vt,d)))\n",
    "        \n",
    "for a in range(timeslots):\n",
    "    for b in range(timeslots):\n",
    "        \n",
    "        x_r= [x_true[0],M[a],A[b]]\n",
    "        rr_constL[a,b]= np.square(np.linalg.norm(pf.modfunc_res(x_r,ut,vt,d)))\n",
    "        \n",
    "Minimum_A= np.unravel_index(np.argmin(rr_constA),rr_constA.shape)\n",
    "print(\"Minimum of (L,M) at: \", Minimum_A)\n",
    "print(rr_constA[Minimum_A])\n",
    "\n",
    "Minimum_M= np.unravel_index(np.argmin(rr_constM),rr_constM.shape)\n",
    "print(\"Minimum of (L,A) at: \", Minimum_M)\n",
    "print(rr_constM[Minimum_M])\n",
    "\n",
    "Minimum_L= np.unravel_index(np.argmin(rr_constL),rr_constL.shape)\n",
    "print(\"Minimum of (M,A) at: \",Minimum_L)\n",
    "print(rr_constL[Minimum_L])"
   ]
  },
  {
   "cell_type": "code",
   "execution_count": null,
   "metadata": {
    "collapsed": true
   },
   "outputs": [],
   "source": []
  }
 ],
 "metadata": {
  "kernelspec": {
   "display_name": "Python 3",
   "language": "python",
   "name": "python3"
  },
  "language_info": {
   "codemirror_mode": {
    "name": "ipython",
    "version": 3
   },
   "file_extension": ".py",
   "mimetype": "text/x-python",
   "name": "python",
   "nbconvert_exporter": "python",
   "pygments_lexer": "ipython3",
   "version": "3.5.2"
  }
 },
 "nbformat": 4,
 "nbformat_minor": 2
}
