{
 "cells": [
  {
   "cell_type": "markdown",
   "metadata": {},
   "source": [
    "### Jacobian_confirmation-Optimized  \n",
    "\n",
    "Objective is to test the Jacobian and approximate Hessian. Testing Analytic 3x3 and comupted $\\mathbf{J}^H\\mathbf{J}$ from analytic $\\mathbf{J}$."
   ]
  },
  {
   "cell_type": "code",
   "execution_count": 1,
   "metadata": {
    "collapsed": true
   },
   "outputs": [],
   "source": [
    "import numpy as np \n",
    "import ProjectPacks as pp\n",
    "import matplotlib.pyplot as plt \n",
    "%matplotlib inline"
   ]
  },
  {
   "cell_type": "markdown",
   "metadata": {},
   "source": [
    "**Confirmation of JHJ**"
   ]
  },
  {
   "cell_type": "code",
   "execution_count": 4,
   "metadata": {
    "collapsed": true
   },
   "outputs": [],
   "source": [
    "Amp,l,m,ut,vt,arrayHxpos = pp.formatSParams('Array_Profile.txt', 'Field_Profile.txt', td= 100)\n",
    "ut, vt= ut[:3,:3], vt[:3,:3]\n",
    "\n",
    "\n",
    "SNum= len(Amp)\n",
    "ArNum= len(ut) ## ut will always be a square mat"
   ]
  },
  {
   "cell_type": "code",
   "execution_count": 5,
   "metadata": {},
   "outputs": [
    {
     "name": "stdout",
     "output_type": "stream",
     "text": [
      "(3, 3, 100)\n"
     ]
    }
   ],
   "source": [
    "print(np.shape(ut))"
   ]
  },
  {
   "cell_type": "code",
   "execution_count": 6,
   "metadata": {
    "collapsed": true
   },
   "outputs": [],
   "source": [
    "# Analytic JHJ\n",
    "\n",
    "Complete= np.zeros((len(ut),len(ut)), dtype=complex)\n",
    "Complete_An= np.zeros((len(ut),len(ut)), dtype=complex)\n",
    "for i in [21]: #in range(100):\n",
    "\n",
    "    U= np.array(ut)[:,:,i]\n",
    "    V= np.array(vt)[:,:,i]\n",
    "\n",
    "    sumU,sqsumU= np.sum(np.triu(U,1)),np.sum(np.square(np.triu(U,1)))\n",
    "    sumV, sqsumV= np.sum(np.triu(V,1)),np.sum(np.square(np.triu(V,1)))\n",
    "    sumUV= np.sum(np.multiply(np.triu(U,1),np.triu(V,1)))\n",
    "\n",
    "    ## Packing into Analytic JHJ\n",
    "    JHJ= np.array([[3, -2j*np.pi*Amp[0]*sumU, -2j*np.pi*Amp[0]*sumV],\n",
    "                  [2j*np.pi*Amp[0]*sumU, np.square(2*np.pi*Amp[0])*sqsumU, np.square(2*np.pi*Amp[0])*sumUV],\n",
    "                  [2j*np.pi*Amp[0]*sumV, np.square(2*np.pi*Amp[0])*sumUV, np.square(2*np.pi*Amp[0])*sqsumV]])\n",
    "\n",
    "    ## Calculating JHJ explicitly from J\n",
    "    Psi= 2j*np.pi*(U*l[0]+V*m[0])\n",
    "    expPsi= lambda unicoeff: np.exp(unicoeff*Psi)\n",
    "    coeU= -2j*np.pi*Amp[0]*U\n",
    "    coeV= -2j*np.pi*Amp[0]*V\n",
    "\n",
    "    ## remember the -(minus) for negative exponents\n",
    "\n",
    "    Jkt= np.array([expPsi(-1)[np.nonzero(np.triu(U,1))],\n",
    "                   (coeU*expPsi(-1))[np.nonzero(np.triu(U,1))],(coeV*expPsi(-1))[np.nonzero(np.triu(V,1))]])\n",
    "    \n",
    "\n",
    "    ## NNNNBBBB!!!! with the above we need to be careful because indexing goes from left to right not up to down\n",
    "    ## in the 3x3 case it doesnt matter but in the long run we need to make it more general\n",
    "\n",
    "    J= Jkt.T # since there Jkt=Jktbar we don't need to concatenate anything\n",
    "    Jh= J.conj().T ## because .H and .getH only works for matrices not ndarrays\n",
    "    JhJ= np.dot(Jh,J) ## this is not element-wise, this is equivalent of matrix multiplication\n",
    "\n",
    "    \n",
    "    Complete += JhJ\n",
    "    Complete_An += JHJ\n",
    "    \n",
    "   # print(np.allclose(JHJ, JhJ, rtol=1e-15, atol=1e-15, equal_nan=False))"
   ]
  },
  {
   "cell_type": "code",
   "execution_count": 7,
   "metadata": {},
   "outputs": [
    {
     "name": "stdout",
     "output_type": "stream",
     "text": [
      "\n",
      " Analytic JHJ: \n",
      " [[  3.00000000e+00   +0.j           0.00000000e+00-4350.08835489j\n",
      "    0.00000000e+00+5013.32066842j]\n",
      " [  0.00000000e+00+4350.08835489j   7.24406380e+06   +0.j\n",
      "   -8.34852348e+06   +0.j        ]\n",
      " [  0.00000000e+00-5013.32066842j  -8.34852348e+06   +0.j\n",
      "    9.62137361e+06   +0.j        ]]\n",
      "\n",
      " Computed JHJ: \n",
      " [[  3.00000000e+00   +0.j           0.00000000e+00-4350.08835489j\n",
      "    0.00000000e+00+5013.32066842j]\n",
      " [  0.00000000e+00+4350.08835489j   7.24406380e+06   +0.j\n",
      "   -8.34852348e+06   +0.j        ]\n",
      " [  0.00000000e+00-5013.32066842j  -8.34852348e+06   +0.j\n",
      "    9.62137361e+06   +0.j        ]]\n",
      "\n",
      " Analytic JHJinv: \n",
      " [[  2.57894737e+00 -1.06672743e-16j  -6.98794539e-17 +6.65185764e-04j\n",
      "   -6.06986540e-17 -7.66602720e-04j]\n",
      " [  4.06867307e-14 -6.65187858e-04j   1.97038898e-07 +1.05123262e-17j\n",
      "   -2.27080258e-07 -1.20786506e-17j]\n",
      " [  3.53042106e-14 +7.66600903e-04j  -2.27079167e-07 +9.08520599e-18j\n",
      "    2.61700590e-07 -1.05123556e-17j]]\n",
      "\n",
      " Analytic JHJ p(suedo) inv \n",
      " [[  1.00000000e+00 +6.21523786e-28j   1.39567684e-13 +4.69844963e-09j\n",
      "   -1.60846745e-13 -5.41513145e-09j]\n",
      " [ -1.70333569e-15 -1.50322343e-10j   4.29521252e-01 -3.64379473e-17j\n",
      "   -4.95007824e-01 +4.19934263e-17j]\n",
      " [ -1.47800279e-15 -1.30440435e-10j  -4.95007824e-01 +4.11058241e-17j\n",
      "    5.70478748e-01 -4.73729866e-17j]]\n",
      "\n",
      " Analytic JHJ = computed JHJ? \n",
      " True\n"
     ]
    }
   ],
   "source": [
    "print(\"\\n Analytic JHJ: \\n\",Complete_An)\n",
    "print(\"\\n Computed JHJ: \\n\",Complete)\n",
    "print(\"\\n Analytic JHJinv: \\n\",np.linalg.pinv(Complete))\n",
    "print('\\n Analytic JHJ p(suedo) inv \\n',np.linalg.pinv(JHJ).dot(JHJ))\n",
    "print(\"\\n Analytic JHJ = computed JHJ? \\n\",np.allclose(JHJ, JhJ, rtol=1e-15, atol=1e-15, equal_nan=False))"
   ]
  },
  {
   "cell_type": "markdown",
   "metadata": {
    "collapsed": true
   },
   "source": [
    "**Report**  \n",
    "To a tolerance of 15 decimal places, JHJ is computed correctly, I am satisfied with this error. "
   ]
  }
 ],
 "metadata": {
  "kernelspec": {
   "display_name": "Python 3",
   "language": "python",
   "name": "python3"
  },
  "language_info": {
   "codemirror_mode": {
    "name": "ipython",
    "version": 3
   },
   "file_extension": ".py",
   "mimetype": "text/x-python",
   "name": "python",
   "nbconvert_exporter": "python",
   "pygments_lexer": "ipython3",
   "version": "3.6.1"
  }
 },
 "nbformat": 4,
 "nbformat_minor": 1
}
