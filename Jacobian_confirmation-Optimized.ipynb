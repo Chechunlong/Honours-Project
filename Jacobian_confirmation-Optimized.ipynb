{
 "cells": [
  {
   "cell_type": "code",
   "execution_count": 1,
   "metadata": {
    "collapsed": true
   },
   "outputs": [],
   "source": [
    "import numpy as np \n",
    "import ProjectPacks as pp\n",
    "import matplotlib.pyplot as plt \n",
    "%matplotlib inline"
   ]
  },
  {
   "cell_type": "markdown",
   "metadata": {},
   "source": [
    "**Confirmation of JHJ**"
   ]
  },
  {
   "cell_type": "code",
   "execution_count": 3,
   "metadata": {},
   "outputs": [],
   "source": [
    "Amp,l,m,ut,vt,arrayHxpos = pp.formatSParams('Array_Profile.txt', 'Field_Profile.txt', td= 100)\n",
    "SNum= len(Amp)\n",
    "ArNum= len(ut) ## ut will always be a square mat"
   ]
  },
  {
   "cell_type": "code",
   "execution_count": 4,
   "metadata": {},
   "outputs": [
    {
     "name": "stdout",
     "output_type": "stream",
     "text": [
      "(7, 7, 100)\n"
     ]
    }
   ],
   "source": [
    "print(np.shape(ut))"
   ]
  },
  {
   "cell_type": "code",
   "execution_count": 13,
   "metadata": {},
   "outputs": [],
   "source": [
    "# Analytic JHJ\n",
    "\n",
    "Complete= np.zeros((3,3), dtype=complex)\n",
    "Complete_An= np.zeros((3,3), dtype=complex)\n",
    "for i in [21]: #in range(100):\n",
    "\n",
    "    U= np.array(ut)[:,:,i]\n",
    "    V= np.array(vt)[:,:,i]\n",
    "\n",
    "    sumU,sqsumU= np.sum(np.triu(U,1)),np.sum(np.square(np.triu(U,1)))\n",
    "    sumV, sqsumV= np.sum(np.triu(V,1)),np.sum(np.square(np.triu(V,1)))\n",
    "    sumUV= np.sum(np.multiply(np.triu(U,1),np.triu(V,1)))\n",
    "\n",
    "    ## Packing into Analytic JHJ\n",
    "    JHJ= np.array([[3, -2j*np.pi*Amp[0]*sumU, -2j*np.pi*Amp[0]*sumV],\n",
    "                  [2j*np.pi*Amp[0]*sumU, np.square(2*np.pi*Amp[0])*sqsumU, np.square(2*np.pi*Amp[0])*sumUV],\n",
    "                  [2j*np.pi*Amp[0]*sumV, np.square(2*np.pi*Amp[0])*sumUV, np.square(2*np.pi*Amp[0])*sqsumV]])\n",
    "\n",
    "    ## Calculating JHJ explicitly from J\n",
    "    Psi= 2j*np.pi*(U*l[0]+V*m[0])\n",
    "    expPsi= lambda unicoeff: np.exp(unicoeff*Psi)\n",
    "    coeU= -2j*np.pi*Amp[0]*U\n",
    "    coeV= -2j*np.pi*Amp[0]*V\n",
    "\n",
    "    ## remember the -(minus) for negative exponents\n",
    "\n",
    "    Jkt= np.array([expPsi(-1)[np.nonzero(np.triu(U,1))],\n",
    "                   (coeU*expPsi(-1))[np.nonzero(np.triu(U,1))],(coeV*expPsi(-1))[np.nonzero(np.triu(V,1))]])\n",
    "    \n",
    "    \n",
    "\n",
    "    ## NNNNBBBB!!!! with the above we need to be careful because indexing goes from left to right not up to down\n",
    "    ## in the 3x3 case it doesnt matter but in the long run we need to make it more general\n",
    "\n",
    "    J= Jkt.T # since there Jkt=Jktbar we don't need to concatenate anything\n",
    "    Jh= J.conj().T ## because .H and .getH only works for matrices not ndarrays\n",
    "    JhJ= np.dot(Jh,J) ## this is not element-wise, this is equivalent of matrix multiplication\n",
    "\n",
    "    \n",
    "    Complete += JhJ\n",
    "    Complete_An += JHJ\n",
    "    \n",
    "   # print(np.allclose(JHJ, JhJ, rtol=1e-15, atol=1e-15, equal_nan=False))"
   ]
  },
  {
   "cell_type": "code",
   "execution_count": 14,
   "metadata": {},
   "outputs": [
    {
     "name": "stdout",
     "output_type": "stream",
     "text": [
      "\n",
      " Analytic JHJ: \n",
      " [[  3.00000000e+00   +0.j           0.00000000e+00-2283.79638632j\n",
      "    0.00000000e+00+2631.99335092j]\n",
      " [  0.00000000e+00+2283.79638632j   1.96394619e+06   +0.j\n",
      "   -2.26337748e+06   +0.j        ]\n",
      " [  0.00000000e+00-2631.99335092j  -2.26337748e+06   +0.j\n",
      "    2.60846129e+06   +0.j        ]]\n",
      "\n",
      " Computed JHJ: \n",
      " [[  3.00000000e+00 +1.37679325e-17j  -1.86895064e-14 -2.28379639e+03j\n",
      "    6.26270816e-14 +2.63199335e+03j]\n",
      " [ -1.86895064e-14 +2.28379639e+03j   1.96394619e+06 +2.63626018e-11j\n",
      "   -2.26337748e+06 +9.86302280e-11j]\n",
      " [  6.26270816e-14 -2.63199335e+03j  -2.26337748e+06 -9.41917597e-11j\n",
      "    2.60846129e+06 -5.93288496e-11j]]\n",
      "\n",
      " Analytic JHJinv: \n",
      " [[  2.90476190e+00 +2.45607472e-16j  -9.20878586e-14 +1.45085161e-03j\n",
      "   -7.99049411e-14 -1.67205440e-03j]\n",
      " [ -8.45407755e-13 -1.45085395e-03j   8.18600766e-07 -3.76263344e-16j\n",
      "   -9.43407998e-07 +5.26548658e-16j]\n",
      " [ -7.33565737e-13 +1.67205236e-03j  -9.43405632e-07 -4.19404645e-16j\n",
      "    1.08724113e-06 +3.76263681e-16j]]\n",
      "\n",
      " Analytic JHJ p(suedo) inv \n",
      " [[  1.00000000e+00 +2.11217507e-28j   1.63056818e-13 -7.69432518e-10j\n",
      "   -1.87917130e-13 +8.88576324e-10j]\n",
      " [  1.56014328e-14 -4.80030869e-10j   4.29521252e-01 -7.36512280e-17j\n",
      "   -4.95007824e-01 +8.48803964e-17j]\n",
      " [  1.35374940e-14 -4.16525895e-10j  -4.95007824e-01 +1.00621178e-16j\n",
      "    5.70478748e-01 -1.15962295e-16j]]\n",
      "\n",
      " Analytic JHJ = computed JHJ? \n",
      " True\n"
     ]
    }
   ],
   "source": [
    "print(\"\\n Analytic JHJ: \\n\",Complete_An)\n",
    "print(\"\\n Computed JHJ: \\n\",Complete)\n",
    "print(\"\\n Analytic JHJinv: \\n\",np.linalg.pinv(Complete))\n",
    "print('\\n Analytic JHJ p(suedo) inv \\n',np.linalg.pinv(JHJ).dot(JHJ))\n",
    "print(\"\\n Analytic JHJ = computed JHJ? \\n\",np.allclose(JHJ, JhJ, rtol=1e-15, atol=1e-15, equal_nan=False))"
   ]
  },
  {
   "cell_type": "markdown",
   "metadata": {
    "collapsed": true
   },
   "source": [
    "**Report**  \n",
    "To a tolerance of 15 decimal places, JHJ is computed correctly, I am satisfied with this error. "
   ]
  },
  {
   "cell_type": "code",
   "execution_count": null,
   "metadata": {
    "collapsed": true
   },
   "outputs": [],
   "source": []
  }
 ],
 "metadata": {
  "kernelspec": {
   "display_name": "Python 3",
   "language": "python",
   "name": "python3"
  },
  "language_info": {
   "codemirror_mode": {
    "name": "ipython",
    "version": 3
   },
   "file_extension": ".py",
   "mimetype": "text/x-python",
   "name": "python",
   "nbconvert_exporter": "python",
   "pygments_lexer": "ipython3",
   "version": "3.6.1"
  }
 },
 "nbformat": 4,
 "nbformat_minor": 1
}
